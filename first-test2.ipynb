{
 "cells": [
  {
   "cell_type": "code",
   "execution_count": 1,
   "id": "certified-blood",
   "metadata": {
    "_cell_guid": "b1076dfc-b9ad-4769-8c92-a6c4dae69d19",
    "_uuid": "8f2839f25d086af736a60e9eeb907d3b93b6e0e5",
    "execution": {
     "iopub.execute_input": "2021-05-06T11:10:32.950591Z",
     "iopub.status.busy": "2021-05-06T11:10:32.949958Z",
     "iopub.status.idle": "2021-05-06T11:10:32.954510Z",
     "shell.execute_reply": "2021-05-06T11:10:32.953941Z"
    },
    "papermill": {
     "duration": 0.03133,
     "end_time": "2021-05-06T11:10:32.954695",
     "exception": false,
     "start_time": "2021-05-06T11:10:32.923365",
     "status": "completed"
    },
    "tags": []
   },
   "outputs": [],
   "source": [
    "import sys\n",
    "sys.path.append('../input/timm-pytorch-image-models/pytorch-image-models-master')"
   ]
  },
  {
   "cell_type": "code",
   "execution_count": 2,
   "id": "major-neighborhood",
   "metadata": {
    "execution": {
     "iopub.execute_input": "2021-05-06T11:10:32.988443Z",
     "iopub.status.busy": "2021-05-06T11:10:32.987836Z",
     "iopub.status.idle": "2021-05-06T11:10:41.295946Z",
     "shell.execute_reply": "2021-05-06T11:10:41.295476Z"
    },
    "papermill": {
     "duration": 8.327053,
     "end_time": "2021-05-06T11:10:41.296076",
     "exception": false,
     "start_time": "2021-05-06T11:10:32.969023",
     "status": "completed"
    },
    "tags": []
   },
   "outputs": [],
   "source": [
    "import numpy as np \n",
    "import pandas as pd \n",
    "\n",
    "import math\n",
    "import random \n",
    "import os \n",
    "import cv2\n",
    "import timm\n",
    "\n",
    "from tqdm import tqdm \n",
    "\n",
    "import albumentations as A \n",
    "from albumentations.pytorch.transforms import ToTensorV2\n",
    "\n",
    "import torch \n",
    "from torch.utils.data import Dataset \n",
    "from torch import nn\n",
    "import torch.nn.functional as F \n",
    "\n",
    "import gc\n",
    "import cudf\n",
    "import cuml\n",
    "import cupy\n",
    "from cuml.feature_extraction.text import TfidfVectorizer\n",
    "from cuml.neighbors import NearestNeighbors"
   ]
  },
  {
   "cell_type": "code",
   "execution_count": 3,
   "id": "adopted-train",
   "metadata": {
    "execution": {
     "iopub.execute_input": "2021-05-06T11:10:41.324969Z",
     "iopub.status.busy": "2021-05-06T11:10:41.324457Z",
     "iopub.status.idle": "2021-05-06T11:10:41.327824Z",
     "shell.execute_reply": "2021-05-06T11:10:41.328659Z"
    },
    "papermill": {
     "duration": 0.020051,
     "end_time": "2021-05-06T11:10:41.328786",
     "exception": false,
     "start_time": "2021-05-06T11:10:41.308735",
     "status": "completed"
    },
    "tags": []
   },
   "outputs": [],
   "source": [
    "class CFG:\n",
    "    \n",
    "    img_size = 512\n",
    "    batch_size = 12\n",
    "    seed = 2020\n",
    "    \n",
    "    device = 'cuda'\n",
    "    classes = 11014\n",
    "    \n",
    "    scale = 30 \n",
    "    margin = 0.5"
   ]
  },
  {
   "cell_type": "code",
   "execution_count": 4,
   "id": "marine-complexity",
   "metadata": {
    "execution": {
     "iopub.execute_input": "2021-05-06T11:10:41.359659Z",
     "iopub.status.busy": "2021-05-06T11:10:41.358124Z",
     "iopub.status.idle": "2021-05-06T11:10:41.362301Z",
     "shell.execute_reply": "2021-05-06T11:10:41.361819Z"
    },
    "papermill": {
     "duration": 0.021578,
     "end_time": "2021-05-06T11:10:41.362416",
     "exception": false,
     "start_time": "2021-05-06T11:10:41.340838",
     "status": "completed"
    },
    "tags": []
   },
   "outputs": [
    {
     "name": "stdout",
     "output_type": "stream",
     "text": [
      "\n"
     ]
    }
   ],
   "source": [
    "def read_dataset():\n",
    "    df = pd.read_csv('../input/shopee-product-matching/test.csv')\n",
    "    df_cu = cudf.DataFrame(df)\n",
    "    image_paths = '../input/shopee-product-matching/test_images/' + df['image']\n",
    "    return df, df_cu, image_paths\n",
    "print()"
   ]
  },
  {
   "cell_type": "code",
   "execution_count": 5,
   "id": "addressed-testing",
   "metadata": {
    "execution": {
     "iopub.execute_input": "2021-05-06T11:10:41.393028Z",
     "iopub.status.busy": "2021-05-06T11:10:41.392452Z",
     "iopub.status.idle": "2021-05-06T11:10:41.398701Z",
     "shell.execute_reply": "2021-05-06T11:10:41.398289Z"
    },
    "papermill": {
     "duration": 0.023509,
     "end_time": "2021-05-06T11:10:41.398810",
     "exception": false,
     "start_time": "2021-05-06T11:10:41.375301",
     "status": "completed"
    },
    "tags": []
   },
   "outputs": [],
   "source": [
    "def seed_torch(seed=42):\n",
    "    random.seed(seed)\n",
    "    os.environ['PYTHONHASHSEED'] = str(seed)\n",
    "    np.random.seed(seed)\n",
    "    torch.manual_seed(seed)\n",
    "    torch.cuda.manual_seed(seed)\n",
    "    torch.backends.cudnn.deterministic = True\n",
    "    \n",
    "seed_torch(CFG.seed)"
   ]
  },
  {
   "cell_type": "code",
   "execution_count": 6,
   "id": "cardiovascular-organizer",
   "metadata": {
    "execution": {
     "iopub.execute_input": "2021-05-06T11:10:41.429567Z",
     "iopub.status.busy": "2021-05-06T11:10:41.429015Z",
     "iopub.status.idle": "2021-05-06T11:10:41.432294Z",
     "shell.execute_reply": "2021-05-06T11:10:41.433173Z"
    },
    "papermill": {
     "duration": 0.021057,
     "end_time": "2021-05-06T11:10:41.433303",
     "exception": false,
     "start_time": "2021-05-06T11:10:41.412246",
     "status": "completed"
    },
    "tags": []
   },
   "outputs": [],
   "source": [
    "def combine_predictions(row):\n",
    "    x = np.concatenate([row['image_predictions'], row['text_predictions']])\n",
    "    return ' '.join( np.unique(x))"
   ]
  },
  {
   "cell_type": "code",
   "execution_count": 7,
   "id": "casual-footage",
   "metadata": {
    "execution": {
     "iopub.execute_input": "2021-05-06T11:10:41.468394Z",
     "iopub.status.busy": "2021-05-06T11:10:41.466528Z",
     "iopub.status.idle": "2021-05-06T11:10:41.469124Z",
     "shell.execute_reply": "2021-05-06T11:10:41.469622Z"
    },
    "papermill": {
     "duration": 0.023298,
     "end_time": "2021-05-06T11:10:41.469758",
     "exception": false,
     "start_time": "2021-05-06T11:10:41.446460",
     "status": "completed"
    },
    "tags": []
   },
   "outputs": [],
   "source": [
    "def get_image_predictions(df, embeddings,threshold = 0.0):\n",
    "    \n",
    "    if len(df) > 3:\n",
    "        KNN = 50\n",
    "    else : \n",
    "        KNN = 3\n",
    "    \n",
    "    model = NearestNeighbors(n_neighbors = KNN, metric = 'cosine')\n",
    "    model.fit(embeddings)\n",
    "    distances, indices = model.kneighbors(embeddings)\n",
    "    \n",
    "    predictions = []\n",
    "    for k in tqdm(range(embeddings.shape[0])):\n",
    "        idx = np.where(distances[k,] < threshold)[0]\n",
    "        ids = indices[k,idx]\n",
    "        posting_ids = df['posting_id'].iloc[ids].values\n",
    "        predictions.append(posting_ids)\n",
    "        \n",
    "    del model, distances, indices\n",
    "    gc.collect()\n",
    "    return predictions"
   ]
  },
  {
   "cell_type": "code",
   "execution_count": 8,
   "id": "sharing-remainder",
   "metadata": {
    "execution": {
     "iopub.execute_input": "2021-05-06T11:10:41.501881Z",
     "iopub.status.busy": "2021-05-06T11:10:41.501345Z",
     "iopub.status.idle": "2021-05-06T11:10:41.505532Z",
     "shell.execute_reply": "2021-05-06T11:10:41.505032Z"
    },
    "papermill": {
     "duration": 0.022558,
     "end_time": "2021-05-06T11:10:41.505652",
     "exception": false,
     "start_time": "2021-05-06T11:10:41.483094",
     "status": "completed"
    },
    "tags": []
   },
   "outputs": [],
   "source": [
    "def get_test_transforms():\n",
    "\n",
    "    return A.Compose(\n",
    "        [\n",
    "            A.Resize(CFG.img_size,CFG.img_size,always_apply=True),\n",
    "            A.Normalize(),\n",
    "        ToTensorV2(p=1.0)\n",
    "        ]\n",
    "    )"
   ]
  },
  {
   "cell_type": "code",
   "execution_count": 9,
   "id": "synthetic-accordance",
   "metadata": {
    "execution": {
     "iopub.execute_input": "2021-05-06T11:10:41.541579Z",
     "iopub.status.busy": "2021-05-06T11:10:41.541016Z",
     "iopub.status.idle": "2021-05-06T11:10:41.544359Z",
     "shell.execute_reply": "2021-05-06T11:10:41.544803Z"
    },
    "papermill": {
     "duration": 0.025076,
     "end_time": "2021-05-06T11:10:41.544937",
     "exception": false,
     "start_time": "2021-05-06T11:10:41.519861",
     "status": "completed"
    },
    "tags": []
   },
   "outputs": [],
   "source": [
    "class ShopeeDataset(Dataset):\n",
    "    def __init__(self, image_paths, transforms=None):\n",
    "\n",
    "        self.image_paths = image_paths\n",
    "        self.augmentations = transforms\n",
    "\n",
    "    def __len__(self):\n",
    "        return self.image_paths.shape[0]\n",
    "\n",
    "    def __getitem__(self, index):\n",
    "        image_path = self.image_paths[index]\n",
    "        \n",
    "        image = cv2.imread(image_path)\n",
    "        image = cv2.cvtColor(image, cv2.COLOR_BGR2RGB)\n",
    "        \n",
    "        if self.augmentations:\n",
    "            augmented = self.augmentations(image=image)\n",
    "            image = augmented['image']       \n",
    "    \n",
    "        return image,torch.tensor(1)"
   ]
  },
  {
   "cell_type": "code",
   "execution_count": 10,
   "id": "tested-variance",
   "metadata": {
    "execution": {
     "iopub.execute_input": "2021-05-06T11:10:41.595074Z",
     "iopub.status.busy": "2021-05-06T11:10:41.586067Z",
     "iopub.status.idle": "2021-05-06T11:10:41.597587Z",
     "shell.execute_reply": "2021-05-06T11:10:41.597143Z"
    },
    "papermill": {
     "duration": 0.038597,
     "end_time": "2021-05-06T11:10:41.597706",
     "exception": false,
     "start_time": "2021-05-06T11:10:41.559109",
     "status": "completed"
    },
    "tags": []
   },
   "outputs": [],
   "source": [
    "class ArcMarginProduct(nn.Module):\n",
    "    def __init__(self, in_features, out_features, scale=30.0, margin=0.50, easy_margin=False, ls_eps=0.0):\n",
    "        super(ArcMarginProduct, self).__init__()\n",
    "        self.in_features = in_features\n",
    "        self.out_features = out_features\n",
    "        self.scale = scale\n",
    "        self.margin = margin\n",
    "        self.ls_eps = ls_eps  # label smoothing\n",
    "        self.weight = nn.Parameter(torch.FloatTensor(out_features, in_features))\n",
    "        nn.init.xavier_uniform_(self.weight)\n",
    "\n",
    "        self.easy_margin = easy_margin\n",
    "        self.cos_m = math.cos(margin)\n",
    "        self.sin_m = math.sin(margin)\n",
    "        self.th = math.cos(math.pi - margin)\n",
    "        self.mm = math.sin(math.pi - margin) * margin\n",
    "\n",
    "    def forward(self, input, label):\n",
    "        # --------------------------- cos(theta) & phi(theta) ---------------------------\n",
    "        cosine = F.linear(F.normalize(input), F.normalize(self.weight))\n",
    "        sine = torch.sqrt(1.0 - torch.pow(cosine, 2))\n",
    "        phi = cosine * self.cos_m - sine * self.sin_m\n",
    "        if self.easy_margin:\n",
    "            phi = torch.where(cosine > 0, phi, cosine)\n",
    "        else:\n",
    "            phi = torch.where(cosine > self.th, phi, cosine - self.mm)\n",
    "        # --------------------------- convert label to one-hot ---------------------------\n",
    "        # one_hot = torch.zeros(cosine.size(), requires_grad=True, device='cuda')\n",
    "        one_hot = torch.zeros(cosine.size(), device='cuda')\n",
    "        one_hot.scatter_(1, label.view(-1, 1).long(), 1)\n",
    "        if self.ls_eps > 0:\n",
    "            one_hot = (1 - self.ls_eps) * one_hot + self.ls_eps / self.out_features\n",
    "        # -------------torch.where(out_i = {x_i if condition_i else y_i) -------------\n",
    "        output = (one_hot * phi) + ((1.0 - one_hot) * cosine)\n",
    "        output *= self.scale\n",
    "\n",
    "        return output\n",
    "\n",
    "class ShopeeModel(nn.Module):\n",
    "\n",
    "    def __init__(\n",
    "        self,\n",
    "        n_classes = CFG.classes,\n",
    "        model_name = None,\n",
    "        fc_dim = 512,\n",
    "        margin = CFG.margin,\n",
    "        scale = CFG.scale,\n",
    "        use_fc = True,\n",
    "        pretrained = False):\n",
    "\n",
    "\n",
    "        super(ShopeeModel,self).__init__()\n",
    "        print('Building Model Backbone for {} model'.format(model_name))\n",
    "\n",
    "        self.backbone = timm.create_model(model_name, pretrained=pretrained)\n",
    "\n",
    "        if model_name == 'resnext50_32x4d':\n",
    "            final_in_features = self.backbone.fc.in_features\n",
    "            self.backbone.fc = nn.Identity()\n",
    "            self.backbone.global_pool = nn.Identity()\n",
    "\n",
    "        elif 'efficientnet' in model_name:\n",
    "            final_in_features = self.backbone.classifier.in_features\n",
    "            self.backbone.classifier = nn.Identity()\n",
    "            self.backbone.global_pool = nn.Identity()\n",
    "        \n",
    "        elif model_name == 'eca_nfnet_l0':\n",
    "            final_in_features = self.backbone.head.fc.in_features\n",
    "            self.backbone.head.fc = nn.Identity()\n",
    "            self.backbone.head.global_pool = nn.Identity()\n",
    "\n",
    "        self.pooling =  nn.AdaptiveAvgPool2d(1)\n",
    "\n",
    "        self.use_fc = use_fc\n",
    "\n",
    "        self.dropout = nn.Dropout(p=0.0)\n",
    "        self.fc = nn.Linear(final_in_features, fc_dim)\n",
    "        self.bn = nn.BatchNorm1d(fc_dim)\n",
    "        self._init_params()\n",
    "        final_in_features = fc_dim\n",
    "\n",
    "        self.final = ArcMarginProduct(\n",
    "            final_in_features,\n",
    "            n_classes,\n",
    "            scale = scale,\n",
    "            margin = margin,\n",
    "            easy_margin = False,\n",
    "            ls_eps = 0.0\n",
    "        )\n",
    "\n",
    "    def _init_params(self):\n",
    "        nn.init.xavier_normal_(self.fc.weight)\n",
    "        nn.init.constant_(self.fc.bias, 0)\n",
    "        nn.init.constant_(self.bn.weight, 1)\n",
    "        nn.init.constant_(self.bn.bias, 0)\n",
    "\n",
    "    def forward(self, image, label):\n",
    "        feature = self.extract_feat(image)\n",
    "        #logits = self.final(feature,label)\n",
    "        return feature\n",
    "\n",
    "    def extract_feat(self, x):\n",
    "        batch_size = x.shape[0]\n",
    "        x = self.backbone(x)\n",
    "        x = self.pooling(x).view(batch_size, -1)\n",
    "\n",
    "        if self.use_fc:\n",
    "            x = self.dropout(x)\n",
    "            x = self.fc(x)\n",
    "            x = self.bn(x)\n",
    "        return x"
   ]
  },
  {
   "cell_type": "code",
   "execution_count": 11,
   "id": "applicable-ridge",
   "metadata": {
    "execution": {
     "iopub.execute_input": "2021-05-06T11:10:41.637140Z",
     "iopub.status.busy": "2021-05-06T11:10:41.636136Z",
     "iopub.status.idle": "2021-05-06T11:10:41.639117Z",
     "shell.execute_reply": "2021-05-06T11:10:41.638666Z"
    },
    "papermill": {
     "duration": 0.026917,
     "end_time": "2021-05-06T11:10:41.639240",
     "exception": false,
     "start_time": "2021-05-06T11:10:41.612323",
     "status": "completed"
    },
    "tags": []
   },
   "outputs": [],
   "source": [
    "class Mish_func(torch.autograd.Function):\n",
    "    \n",
    "    \"\"\"from: https://github.com/tyunist/memory_efficient_mish_swish/blob/master/mish.py\"\"\"\n",
    "    \n",
    "    @staticmethod\n",
    "    def forward(ctx, i):\n",
    "        result = i * torch.tanh(F.softplus(i))\n",
    "        ctx.save_for_backward(i)\n",
    "        return result\n",
    "\n",
    "    @staticmethod\n",
    "    def backward(ctx, grad_output):\n",
    "        i = ctx.saved_variables[0]\n",
    "  \n",
    "        v = 1. + i.exp()\n",
    "        h = v.log() \n",
    "        grad_gh = 1./h.cosh().pow_(2) \n",
    "\n",
    "        # Note that grad_hv * grad_vx = sigmoid(x)\n",
    "        #grad_hv = 1./v  \n",
    "        #grad_vx = i.exp()\n",
    "        \n",
    "        grad_hx = i.sigmoid()\n",
    "\n",
    "        grad_gx = grad_gh *  grad_hx #grad_hv * grad_vx \n",
    "        \n",
    "        grad_f =  torch.tanh(F.softplus(i)) + i * grad_gx \n",
    "        \n",
    "        return grad_output * grad_f \n",
    "\n",
    "\n",
    "class Mish(nn.Module):\n",
    "    def __init__(self, **kwargs):\n",
    "        super().__init__()\n",
    "        pass\n",
    "    def forward(self, input_tensor):\n",
    "        return Mish_func.apply(input_tensor)\n",
    "\n",
    "\n",
    "def replace_activations(model, existing_layer, new_layer):\n",
    "    \n",
    "    \"\"\"A function for replacing existing activation layers\"\"\"\n",
    "    \n",
    "    for name, module in reversed(model._modules.items()):\n",
    "        if len(list(module.children())) > 0:\n",
    "            model._modules[name] = replace_activations(module, existing_layer, new_layer)\n",
    "\n",
    "        if type(module) == existing_layer:\n",
    "            layer_old = module\n",
    "            layer_new = new_layer\n",
    "            model._modules[name] = layer_new\n",
    "    return model"
   ]
  },
  {
   "cell_type": "code",
   "execution_count": 12,
   "id": "gentle-estate",
   "metadata": {
    "execution": {
     "iopub.execute_input": "2021-05-06T11:10:41.671522Z",
     "iopub.status.busy": "2021-05-06T11:10:41.670973Z",
     "iopub.status.idle": "2021-05-06T11:10:41.674353Z",
     "shell.execute_reply": "2021-05-06T11:10:41.674757Z"
    },
    "papermill": {
     "duration": 0.021924,
     "end_time": "2021-05-06T11:10:41.674887",
     "exception": false,
     "start_time": "2021-05-06T11:10:41.652963",
     "status": "completed"
    },
    "tags": []
   },
   "outputs": [],
   "source": [
    "def get_model(model_name = None, model_path = None, n_classes = None):\n",
    "    \n",
    "    model = ShopeeModel(model_name = model_name)\n",
    "    if model_name == 'eca_nfnet_l0':\n",
    "        model = replace_activations(model, torch.nn.SiLU, Mish())\n",
    "    model.eval()\n",
    "    model.load_state_dict(torch.load(model_path))\n",
    "    model = model.to(CFG.device)\n",
    "    \n",
    "    return model "
   ]
  },
  {
   "cell_type": "code",
   "execution_count": 13,
   "id": "magnetic-macintosh",
   "metadata": {
    "execution": {
     "iopub.execute_input": "2021-05-06T11:10:41.707200Z",
     "iopub.status.busy": "2021-05-06T11:10:41.706593Z",
     "iopub.status.idle": "2021-05-06T11:10:41.710543Z",
     "shell.execute_reply": "2021-05-06T11:10:41.710087Z"
    },
    "papermill": {
     "duration": 0.022073,
     "end_time": "2021-05-06T11:10:41.710652",
     "exception": false,
     "start_time": "2021-05-06T11:10:41.688579",
     "status": "completed"
    },
    "tags": []
   },
   "outputs": [],
   "source": [
    "class EnsembleModel(nn.Module):\n",
    "    \n",
    "    def __init__(self):\n",
    "        super(EnsembleModel,self).__init__()\n",
    "        \n",
    "        self.m1 = get_model('eca_nfnet_l0','../input/shopee-pytorch-models/arcface_512x512_nfnet_l0 (mish).pt')\n",
    "        self.m2 = get_model('tf_efficientnet_b5_ns','../input/shopee-pytorch-models/arcface_512x512_eff_b5_.pt')\n",
    "        \n",
    "    def forward(self,img,label):\n",
    "        \n",
    "        feat1 = self.m1(img,label)\n",
    "        feat2 = self.m2(img,label)\n",
    "    \n",
    "        return (feat1 + feat2) / 2"
   ]
  },
  {
   "cell_type": "code",
   "execution_count": 14,
   "id": "authorized-hometown",
   "metadata": {
    "execution": {
     "iopub.execute_input": "2021-05-06T11:10:41.744378Z",
     "iopub.status.busy": "2021-05-06T11:10:41.743699Z",
     "iopub.status.idle": "2021-05-06T11:10:41.747042Z",
     "shell.execute_reply": "2021-05-06T11:10:41.747504Z"
    },
    "papermill": {
     "duration": 0.023635,
     "end_time": "2021-05-06T11:10:41.747634",
     "exception": false,
     "start_time": "2021-05-06T11:10:41.723999",
     "status": "completed"
    },
    "tags": []
   },
   "outputs": [],
   "source": [
    "def get_image_embeddings(image_paths, model_name = None, model_path = None):\n",
    "    embeds = []\n",
    "    \n",
    "    model = EnsembleModel()\n",
    "    \n",
    "    image_dataset = ShopeeDataset(image_paths=image_paths,transforms=get_test_transforms())\n",
    "    image_loader = torch.utils.data.DataLoader(\n",
    "        image_dataset,\n",
    "        batch_size=CFG.batch_size,\n",
    "        pin_memory=True,\n",
    "        drop_last=False,\n",
    "        num_workers=4\n",
    "    )\n",
    "    \n",
    "    \n",
    "    with torch.no_grad():\n",
    "        for img,label in tqdm(image_loader): \n",
    "            img = img.cuda()\n",
    "            label = label.cuda()\n",
    "            feat = model(img,label)\n",
    "            image_embeddings = feat.detach().cpu().numpy()\n",
    "            embeds.append(image_embeddings)\n",
    "    \n",
    "    \n",
    "    del model\n",
    "    image_embeddings = np.concatenate(embeds)\n",
    "    print(f'Our image embeddings shape is {image_embeddings.shape}')\n",
    "    del embeds\n",
    "    gc.collect()\n",
    "    return image_embeddings"
   ]
  },
  {
   "cell_type": "code",
   "execution_count": 15,
   "id": "surgical-deadline",
   "metadata": {
    "execution": {
     "iopub.execute_input": "2021-05-06T11:10:41.783612Z",
     "iopub.status.busy": "2021-05-06T11:10:41.782954Z",
     "iopub.status.idle": "2021-05-06T11:10:41.786015Z",
     "shell.execute_reply": "2021-05-06T11:10:41.786466Z"
    },
    "papermill": {
     "duration": 0.025241,
     "end_time": "2021-05-06T11:10:41.786606",
     "exception": false,
     "start_time": "2021-05-06T11:10:41.761365",
     "status": "completed"
    },
    "tags": []
   },
   "outputs": [],
   "source": [
    "def get_text_predictions(df, max_features = 20_000):\n",
    "    \n",
    "    model = TfidfVectorizer(stop_words = 'english', binary = True, max_features = max_features)\n",
    "    text_embeddings = model.fit_transform(df_cu['title']).toarray()\n",
    "    preds = []\n",
    "    CHUNK = 1024*4\n",
    "\n",
    "    print('Finding similar titles...')\n",
    "    CTS = len(df)//CHUNK\n",
    "    if len(df)%CHUNK!=0: CTS += 1\n",
    "    for j in range( CTS ):\n",
    "\n",
    "        a = j*CHUNK\n",
    "        b = (j+1)*CHUNK\n",
    "        b = min(b,len(df))\n",
    "        print('chunk',a,'to',b)\n",
    "\n",
    "        # COSINE SIMILARITY DISTANCE\n",
    "        cts = cupy.matmul( text_embeddings, text_embeddings[a:b].T).T\n",
    "\n",
    "        for k in range(b-a):\n",
    "            IDX = cupy.where(cts[k,]>0.75)[0]\n",
    "            o = df.iloc[cupy.asnumpy(IDX)].posting_id.values\n",
    "            preds.append(o)\n",
    "    \n",
    "    del model,text_embeddings\n",
    "    gc.collect()\n",
    "    return preds"
   ]
  },
  {
   "cell_type": "code",
   "execution_count": 16,
   "id": "broadband-runner",
   "metadata": {
    "execution": {
     "iopub.execute_input": "2021-05-06T11:10:41.820027Z",
     "iopub.status.busy": "2021-05-06T11:10:41.819542Z",
     "iopub.status.idle": "2021-05-06T11:10:49.984777Z",
     "shell.execute_reply": "2021-05-06T11:10:49.984336Z"
    },
    "papermill": {
     "duration": 8.184502,
     "end_time": "2021-05-06T11:10:49.984901",
     "exception": false,
     "start_time": "2021-05-06T11:10:41.800399",
     "status": "completed"
    },
    "tags": []
   },
   "outputs": [
    {
     "data": {
      "text/html": [
       "<div>\n",
       "<style scoped>\n",
       "    .dataframe tbody tr th:only-of-type {\n",
       "        vertical-align: middle;\n",
       "    }\n",
       "\n",
       "    .dataframe tbody tr th {\n",
       "        vertical-align: top;\n",
       "    }\n",
       "\n",
       "    .dataframe thead th {\n",
       "        text-align: right;\n",
       "    }\n",
       "</style>\n",
       "<table border=\"1\" class=\"dataframe\">\n",
       "  <thead>\n",
       "    <tr style=\"text-align: right;\">\n",
       "      <th></th>\n",
       "      <th>posting_id</th>\n",
       "      <th>image</th>\n",
       "      <th>image_phash</th>\n",
       "      <th>title</th>\n",
       "    </tr>\n",
       "  </thead>\n",
       "  <tbody>\n",
       "    <tr>\n",
       "      <th>0</th>\n",
       "      <td>test_2255846744</td>\n",
       "      <td>0006c8e5462ae52167402bac1c2e916e.jpg</td>\n",
       "      <td>ecc292392dc7687a</td>\n",
       "      <td>Edufuntoys - CHARACTER PHONE ada lampu dan mus...</td>\n",
       "    </tr>\n",
       "    <tr>\n",
       "      <th>1</th>\n",
       "      <td>test_3588702337</td>\n",
       "      <td>0007585c4d0f932859339129f709bfdc.jpg</td>\n",
       "      <td>e9968f60d2699e2c</td>\n",
       "      <td>(Beli 1 Free Spatula) Masker Komedo | Blackhea...</td>\n",
       "    </tr>\n",
       "    <tr>\n",
       "      <th>2</th>\n",
       "      <td>test_4015706929</td>\n",
       "      <td>0008377d3662e83ef44e1881af38b879.jpg</td>\n",
       "      <td>ba81c17e3581cabe</td>\n",
       "      <td>READY Lemonilo Mie instant sehat kuah dan goreng</td>\n",
       "    </tr>\n",
       "  </tbody>\n",
       "</table>\n",
       "</div>"
      ],
      "text/plain": [
       "        posting_id                                 image       image_phash  \\\n",
       "0  test_2255846744  0006c8e5462ae52167402bac1c2e916e.jpg  ecc292392dc7687a   \n",
       "1  test_3588702337  0007585c4d0f932859339129f709bfdc.jpg  e9968f60d2699e2c   \n",
       "2  test_4015706929  0008377d3662e83ef44e1881af38b879.jpg  ba81c17e3581cabe   \n",
       "\n",
       "                                               title  \n",
       "0  Edufuntoys - CHARACTER PHONE ada lampu dan mus...  \n",
       "1  (Beli 1 Free Spatula) Masker Komedo | Blackhea...  \n",
       "2   READY Lemonilo Mie instant sehat kuah dan goreng  "
      ]
     },
     "execution_count": 16,
     "metadata": {},
     "output_type": "execute_result"
    }
   ],
   "source": [
    "df,df_cu,image_paths = read_dataset()\n",
    "df.head()"
   ]
  },
  {
   "cell_type": "code",
   "execution_count": 17,
   "id": "fresh-genetics",
   "metadata": {
    "execution": {
     "iopub.execute_input": "2021-05-06T11:10:50.019030Z",
     "iopub.status.busy": "2021-05-06T11:10:50.018419Z",
     "iopub.status.idle": "2021-05-06T11:10:58.070499Z",
     "shell.execute_reply": "2021-05-06T11:10:58.071108Z"
    },
    "papermill": {
     "duration": 8.071421,
     "end_time": "2021-05-06T11:10:58.071305",
     "exception": false,
     "start_time": "2021-05-06T11:10:49.999884",
     "status": "completed"
    },
    "tags": []
   },
   "outputs": [
    {
     "name": "stdout",
     "output_type": "stream",
     "text": [
      "Building Model Backbone for eca_nfnet_l0 model\n",
      "Building Model Backbone for tf_efficientnet_b5_ns model\n"
     ]
    },
    {
     "name": "stderr",
     "output_type": "stream",
     "text": [
      "100%|██████████| 1/1 [00:01<00:00,  1.52s/it]\n"
     ]
    },
    {
     "name": "stdout",
     "output_type": "stream",
     "text": [
      "Our image embeddings shape is (3, 512)\n"
     ]
    }
   ],
   "source": [
    "image_embeddings = get_image_embeddings(image_paths.values)"
   ]
  },
  {
   "cell_type": "code",
   "execution_count": 18,
   "id": "broke-medicare",
   "metadata": {
    "execution": {
     "iopub.execute_input": "2021-05-06T11:10:58.140872Z",
     "iopub.status.busy": "2021-05-06T11:10:58.140024Z",
     "iopub.status.idle": "2021-05-06T11:11:14.765680Z",
     "shell.execute_reply": "2021-05-06T11:11:14.765192Z"
    },
    "papermill": {
     "duration": 16.662081,
     "end_time": "2021-05-06T11:11:14.765816",
     "exception": false,
     "start_time": "2021-05-06T11:10:58.103735",
     "status": "completed"
    },
    "tags": []
   },
   "outputs": [
    {
     "name": "stderr",
     "output_type": "stream",
     "text": [
      "100%|██████████| 3/3 [00:00<00:00, 3420.20it/s]\n"
     ]
    },
    {
     "name": "stdout",
     "output_type": "stream",
     "text": [
      "Finding similar titles...\n",
      "chunk 0 to 3\n"
     ]
    }
   ],
   "source": [
    "image_predictions = get_image_predictions(df, image_embeddings, threshold = 0.35)\n",
    "text_predictions = get_text_predictions(df, max_features = 20_000)"
   ]
  },
  {
   "cell_type": "code",
   "execution_count": 19,
   "id": "statewide-sugar",
   "metadata": {
    "execution": {
     "iopub.execute_input": "2021-05-06T11:11:14.811264Z",
     "iopub.status.busy": "2021-05-06T11:11:14.810273Z",
     "iopub.status.idle": "2021-05-06T11:11:14.827712Z",
     "shell.execute_reply": "2021-05-06T11:11:14.827243Z"
    },
    "papermill": {
     "duration": 0.043356,
     "end_time": "2021-05-06T11:11:14.827828",
     "exception": false,
     "start_time": "2021-05-06T11:11:14.784472",
     "status": "completed"
    },
    "tags": []
   },
   "outputs": [],
   "source": [
    "df['image_predictions'] = image_predictions\n",
    "df['text_predictions'] = text_predictions\n",
    "df['matches'] = df.apply(combine_predictions, axis = 1)\n",
    "df[['posting_id', 'matches']].to_csv('submission.csv', index = False)"
   ]
  },
  {
   "cell_type": "code",
   "execution_count": null,
   "id": "rural-elimination",
   "metadata": {
    "papermill": {
     "duration": 0.018098,
     "end_time": "2021-05-06T11:11:14.865068",
     "exception": false,
     "start_time": "2021-05-06T11:11:14.846970",
     "status": "completed"
    },
    "tags": []
   },
   "outputs": [],
   "source": []
  }
 ],
 "metadata": {
  "kernelspec": {
   "display_name": "Python 3",
   "language": "python",
   "name": "python3"
  },
  "language_info": {
   "codemirror_mode": {
    "name": "ipython",
    "version": 3
   },
   "file_extension": ".py",
   "mimetype": "text/x-python",
   "name": "python",
   "nbconvert_exporter": "python",
   "pygments_lexer": "ipython3",
   "version": "3.7.10"
  },
  "papermill": {
   "default_parameters": {},
   "duration": 51.999773,
   "end_time": "2021-05-06T11:11:17.644949",
   "environment_variables": {},
   "exception": null,
   "input_path": "__notebook__.ipynb",
   "output_path": "__notebook__.ipynb",
   "parameters": {},
   "start_time": "2021-05-06T11:10:25.645176",
   "version": "2.3.3"
  }
 },
 "nbformat": 4,
 "nbformat_minor": 5
}
